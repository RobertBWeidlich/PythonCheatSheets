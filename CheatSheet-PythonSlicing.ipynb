{
 "cells": [
  {
   "cell_type": "markdown",
   "id": "c546d492-4b29-4236-9916-82d3311b479b",
   "metadata": {},
   "source": [
    "# Python Slicing\n",
    "Slicing is a Python technique to select subsets of lists (arrays), strings, etc."
   ]
  },
  {
   "cell_type": "markdown",
   "id": "59295647-61cc-4335-ac67-93a4301c8e1a",
   "metadata": {},
   "source": [
    "### 1. Setup"
   ]
  },
  {
   "cell_type": "code",
   "execution_count": 3,
   "id": "38e83e4d-324c-4721-b80c-494623cd18ad",
   "metadata": {},
   "outputs": [],
   "source": [
    "ss = 'abcdefgh'\n",
    "ll = [0, 1, 2, 3, 4, 5, 6, 7]"
   ]
  },
  {
   "cell_type": "markdown",
   "id": "b381a107-100a-4ecc-b86b-c9064564d9b0",
   "metadata": {},
   "source": [
    "### 2. Regular use of brackets"
   ]
  },
  {
   "cell_type": "code",
   "execution_count": 17,
   "id": "623568f0-c259-4898-8215-50a7d7cf3065",
   "metadata": {},
   "outputs": [
    {
     "name": "stdout",
     "output_type": "stream",
     "text": [
      "ss = \"abcdefgh\"\n",
      "ss[0]: a\n",
      "ss[1]: b\n",
      "ss[2]: c\n",
      "\n",
      "ll = \"[0, 1, 2, 3, 4, 5, 6, 7]\"\n",
      "ll[0]: 0\n",
      "ll[1]: 1\n",
      "ll[2]: 2\n"
     ]
    }
   ],
   "source": [
    "print(f'ss = \"{ss}\"')\n",
    "print(f'ss[0]: {ss[0]}')\n",
    "print(f'ss[1]: {ss[1]}')\n",
    "print(f'ss[2]: {ss[2]}')\n",
    "print()\n",
    "print(f'll = \"{ll}\"')\n",
    "print(f'll[0]: {ll[0]}')\n",
    "print(f'll[1]: {ll[1]}')\n",
    "print(f'll[2]: {ll[2]}')"
   ]
  },
  {
   "cell_type": "markdown",
   "id": "69fda42e-0e1c-4988-bbb3-f18639effb21",
   "metadata": {},
   "source": [
    "### 3. Negative indices\n",
    "-1 indexes to last element; -2 to next to last element, etc."
   ]
  },
  {
   "cell_type": "code",
   "execution_count": 16,
   "id": "0954171d-886b-40ef-bba4-5b1eb99b5325",
   "metadata": {},
   "outputs": [
    {
     "name": "stdout",
     "output_type": "stream",
     "text": [
      "ss = \"abcdefgh\"\n",
      "ss[-1]: h\n",
      "ss[-2]: g\n",
      "ss[-3]: f\n",
      "\n",
      "ll = \"[0, 1, 2, 3, 4, 5, 6, 7]\"\n",
      "ll[-1]: 7\n",
      "ll[-2]: 6\n",
      "ll[-3]: 5\n"
     ]
    }
   ],
   "source": [
    "print(f'ss = \"{ss}\"')\n",
    "print(f'ss[-1]: {ss[-1]}')\n",
    "print(f'ss[-2]: {ss[-2]}')\n",
    "print(f'ss[-3]: {ss[-3]}')\n",
    "print()\n",
    "print(f'll = \"{ll}\"')\n",
    "print(f'll[-1]: {ll[-1]}')\n",
    "print(f'll[-2]: {ll[-2]}')\n",
    "print(f'll[-3]: {ll[-3]}')"
   ]
  },
  {
   "cell_type": "markdown",
   "id": "06b7a527-f0b5-4b0b-8fc3-9c6447edf702",
   "metadata": {},
   "source": [
    "### 4. Slices\n",
    "`ss[first:last]`"
   ]
  },
  {
   "cell_type": "code",
   "execution_count": 44,
   "id": "ab7e7056-fefd-4b48-9c63-d7565e81ca9d",
   "metadata": {},
   "outputs": [
    {
     "name": "stdout",
     "output_type": "stream",
     "text": [
      "ss = \"abcdefgh\"\n",
      "\n",
      "4.1 - specify first, last\n",
      "ss[2:4]: \"cd\"\n",
      "\n",
      "4.2 - specify first n\n",
      "ss[0:4]: \"abcd\"\n",
      "ss[:4]:  \"abcd\"\n",
      "\n",
      "4.3 - specify all but first n\n",
      "ss[2:99]: \"cdefgh\"\n",
      "ss[2:]:   \"cdefgh\"\n",
      "\n",
      "4.4 - specify last n\n",
      "ss[-2:99]: \"gh\"\n",
      "ss[2:]:    \"gh\"\n",
      "\n",
      "4.5 - specify all but last n\n",
      "ss[0:-2]:  \"abcdef\"\n",
      "ss[:-2]:   \"abcdef\"\n",
      "\n",
      "4.6 - trim begining and end\n",
      "ss[1:-2]:   \"bcdef\"\n",
      "\n",
      "ll = \"[0, 1, 2, 3, 4, 5, 6, 7]\"\n"
     ]
    }
   ],
   "source": [
    "print(f'ss = \"{ss}\"')\n",
    "print()\n",
    "\n",
    "print('4.1 - specify first, last')\n",
    "print(f'ss[2:4]: \"{ss[2:4]}\"')\n",
    "print()\n",
    "\n",
    "print('4.2 - specify first n')\n",
    "print(f'ss[0:4]: \"{ss[0:4]}\"')\n",
    "print(f'ss[:4]:  \"{ss[:4]}\"')\n",
    "print()\n",
    "\n",
    "print('4.3 - specify all but first n')\n",
    "print(f'ss[2:99]: \"{ss[2:99]}\"')\n",
    "print(f'ss[2:]:   \"{ss[2:]}\"')\n",
    "print()\n",
    "\n",
    "print('4.4 - specify last n')\n",
    "print(f'ss[-2:99]: \"{ss[-2:99]}\"')\n",
    "print(f'ss[2:]:    \"{ss[-2:]}\"')\n",
    "print()\n",
    "\n",
    "print('4.5 - specify all but last n')\n",
    "print(f'ss[0:-2]:  \"{ss[0:-2]}\"')\n",
    "print(f'ss[:-2]:   \"{ss[:-2]}\"')\n",
    "print()\n",
    "\n",
    "print('4.6 - trim begining and end')\n",
    "print(f'ss[1:-2]:   \"{ss[1:-2]}\"')\n",
    "print()\n",
    "\n",
    "print(f'll = \"{ll}\"')"
   ]
  },
  {
   "cell_type": "markdown",
   "id": "88abae85-db81-4e2c-add8-a09c21fab83b",
   "metadata": {},
   "source": [
    "### 5. Step, Invert\n",
    "`ss[first:last:step]`"
   ]
  },
  {
   "cell_type": "code",
   "execution_count": 47,
   "id": "649945e8-6a4b-4358-95ec-9d7408b6f7d1",
   "metadata": {},
   "outputs": [
    {
     "name": "stdout",
     "output_type": "stream",
     "text": [
      "ss = \"abcdefgh\"\n",
      "\n",
      "5.1 - every other element\n",
      "ss[::2]: \"aceg\"\n",
      "\n",
      "5.2 - invert\n",
      "ss[::2]: \"hgfedcba\"\n",
      "\n"
     ]
    }
   ],
   "source": [
    "print(f'ss = \"{ss}\"')\n",
    "print()\n",
    "\n",
    "print('5.1 - every other element')\n",
    "print(f'ss[::2]: \"{ss[::2]}\"')\n",
    "print()\n",
    "\n",
    "print('5.2 - invert')\n",
    "print(f'ss[::2]: \"{ss[::-1]}\"')\n",
    "print()"
   ]
  },
  {
   "cell_type": "code",
   "execution_count": null,
   "id": "cd6693ee-7951-4646-b9b2-4d554c08c11d",
   "metadata": {},
   "outputs": [],
   "source": []
  }
 ],
 "metadata": {
  "kernelspec": {
   "display_name": "Python 3",
   "language": "python",
   "name": "python3"
  },
  "language_info": {
   "codemirror_mode": {
    "name": "ipython",
    "version": 3
   },
   "file_extension": ".py",
   "mimetype": "text/x-python",
   "name": "python",
   "nbconvert_exporter": "python",
   "pygments_lexer": "ipython3",
   "version": "3.7.10"
  }
 },
 "nbformat": 4,
 "nbformat_minor": 5
}
