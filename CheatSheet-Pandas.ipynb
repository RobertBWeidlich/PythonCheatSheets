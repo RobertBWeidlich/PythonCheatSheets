{
 "cells": [
  {
   "cell_type": "markdown",
   "id": "de301f08-5be4-4960-ba35-2a8568ac063a",
   "metadata": {},
   "source": [
    "# Pandas Cheatsheet\n",
    "Basic Pandas Operations\n",
    "\n",
    "Include data transfer to/from S3"
   ]
  },
  {
   "cell_type": "markdown",
   "id": "6b923c2c-2e38-4c57-8c30-01c44a2c8621",
   "metadata": {},
   "source": [
    "### 1. Create Pandas DataFrame"
   ]
  },
  {
   "cell_type": "markdown",
   "id": "b2dad759-e830-4c29-944e-9b7d96cd1e6c",
   "metadata": {},
   "source": [
    "##### 1.1 Create DataFrame from Python Object\n",
    "\n",
    "https://www.ritchieng.com/creating-dataframe-from-objects/"
   ]
  },
  {
   "cell_type": "code",
   "execution_count": null,
   "id": "ff7ff713-c8b3-45e3-a261-9c03aff2d95d",
   "metadata": {},
   "outputs": [],
   "source": [
    "import pandas as pd\n",
    "\n",
    "# create a dictionary\n",
    "ex_dict = {\n",
    "    'id': [100, 101, 102],\n",
    "    'color': ['red', 'blue', 'red']\n",
    "}\n",
    "\n",
    "# create a list of strings\n",
    "columns = ['id', 'color']\n",
    "\n",
    "index = ['a', 'b', 'c']\n",
    "\n",
    "# Passing a dictionary\n",
    "# key: column name\n",
    "# value: series of values\n",
    "df = pd.DataFrame(ex_dict, columns=columns, index=index)\n",
    "df"
   ]
  },
  {
   "cell_type": "markdown",
   "id": "5ca223aa-cbb3-4f78-9905-7b1674ebc59c",
   "metadata": {},
   "source": [
    "##### 1.2 Create DataFrame from S3 CSV to Python string\n",
    "also show how to convert JSON object to Python object"
   ]
  },
  {
   "cell_type": "code",
   "execution_count": null,
   "id": "7bf94565-acab-4b10-b163-95314ed12e14",
   "metadata": {},
   "outputs": [],
   "source": [
    "import boto3\n",
    "import json\n",
    "\n",
    "s3 = boto3.client('s3')\n",
    "\n",
    "s3_obj = s3.get_object(Bucket='bucket-name', Key='a/b/c')\n",
    "#j = json.loads(obj['Body'].read())\n",
    "py_str = s3_obj['Body'].read().decode('utf-8')\n",
    "py_str"
   ]
  },
  {
   "cell_type": "code",
   "execution_count": null,
   "id": "f8270516-0548-4072-a350-9f7c2ccdca40",
   "metadata": {},
   "outputs": [],
   "source": []
  },
  {
   "cell_type": "markdown",
   "id": "1086603c-c6dd-4a30-a9e6-261c2e64424f",
   "metadata": {},
   "source": [
    "##### 1.3 Create DataFrame from URL pointing to CSV"
   ]
  },
  {
   "cell_type": "code",
   "execution_count": null,
   "id": "db4ae9bd-6a09-4748-84bb-9d42494d216d",
   "metadata": {},
   "outputs": [],
   "source": [
    "import pandas as pd\n",
    "\n",
    "malicious_ip = pd.read_csv('https://www.dshield.org/block.txt', comment='#', sep=None)\n",
    "malicious_ip"
   ]
  },
  {
   "cell_type": "markdown",
   "id": "a775141a-fef1-48c7-9cce-1de9d195b55f",
   "metadata": {},
   "source": [
    "##### 1.4 Upload local file to S3"
   ]
  },
  {
   "cell_type": "code",
   "execution_count": null,
   "id": "c2f87f90-f1f8-4a6a-90c4-33665fab261c",
   "metadata": {},
   "outputs": [],
   "source": [
    "csv_file = \"data.csv\"\n",
    "dir1 = 'abc'\n",
    "dir2 = 'def'\n",
    "bucket = 'bucket-name'\n",
    "key = os.path.join(dir1, dir2, csv_file)\n",
    "s3_path = f\"s3://{bucket}/{key}\"\n",
    "\n",
    "print(f\"Uploading data to: {s3_path}\")\n",
    "boto3.resource(\"s3\").Bucket(bucket).Object(key).put(Body=csv_file)\n",
    "\n",
    "boto3.resource(\"s3\").Bucket(bucket).Object(key).put(Body=test_dataset_csv)"
   ]
  },
  {
   "cell_type": "code",
   "execution_count": null,
   "id": "757bfc09-0dc6-4f16-b41e-66bb9cb73e77",
   "metadata": {},
   "outputs": [],
   "source": []
  }
 ],
 "metadata": {
  "kernelspec": {
   "display_name": "Python 3",
   "language": "python",
   "name": "python3"
  },
  "language_info": {
   "codemirror_mode": {
    "name": "ipython",
    "version": 3
   },
   "file_extension": ".py",
   "mimetype": "text/x-python",
   "name": "python",
   "nbconvert_exporter": "python",
   "pygments_lexer": "ipython3",
   "version": "3.7.10"
  }
 },
 "nbformat": 4,
 "nbformat_minor": 5
}
